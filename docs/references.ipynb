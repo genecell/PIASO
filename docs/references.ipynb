{
 "cells": [
  {
   "cell_type": "markdown",
   "id": "2168e5cd-e7a1-4882-9a68-b7edcd9244fe",
   "metadata": {},
   "source": [
    "## References"
   ]
  },
  {
   "cell_type": "markdown",
   "id": "a3582647-1b49-4a8e-a656-3d79ce8d9331",
   "metadata": {},
   "source": [
    "<a id=\"cell1\"></a>\n",
    "1. Gabitto, M.I., Travaglini, K.J., Rachleff, V.M. et al. (2024). Integrated multimodal cell atlas of Alzheimer’s disease. Nat Neurosci 27, 2366–2383. https://doi.org/10.1038/s41593-024-01774-5\n",
    "<a id=\"cell2\"></a>\n",
    "2. Dai, M., Pei, X., & Wang, X.-J. (2022). Accurate and fast cell marker gene identification with COSG. Briefings in Bioinformatics, 23(2). https://doi.org/10.1093/bib/bbab579\n",
    "<a id=\"cell3\"></a>\n",
    "3. Wu, S., Dai, M. et al. (2024). Pyramidal neurons proportionately alter the identity and survival of specific cortical interneuron subtypes. bioRxiv. https://doi.org/10.1101/2024.07.20.604399"
   ]
  }
 ],
 "metadata": {
  "kernelspec": {
   "display_name": "Python 3 (ipykernel)",
   "language": "python",
   "name": "python3"
  },
  "language_info": {
   "codemirror_mode": {
    "name": "ipython",
    "version": 3
   },
   "file_extension": ".py",
   "mimetype": "text/x-python",
   "name": "python",
   "nbconvert_exporter": "python",
   "pygments_lexer": "ipython3",
   "version": "3.12.6"
  }
 },
 "nbformat": 4,
 "nbformat_minor": 5
}
